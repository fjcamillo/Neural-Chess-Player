{
 "cells": [
  {
   "cell_type": "code",
   "execution_count": 1,
   "metadata": {
    "collapsed": true
   },
   "outputs": [],
   "source": [
    "import os\n",
    "import PIL as Image"
   ]
  },
  {
   "cell_type": "code",
   "execution_count": 25,
   "metadata": {
    "collapsed": true
   },
   "outputs": [],
   "source": [
    "names = os.listdir('../../input/video/')"
   ]
  },
  {
   "cell_type": "code",
   "execution_count": 26,
   "metadata": {
    "collapsed": false
   },
   "outputs": [
    {
     "data": {
      "text/plain": [
       "['White_Knight_BlackBG.webm',\n",
       " 'Black_Pawn_BlackBG3.webm',\n",
       " 'Black_Pawn_WhiteBG2.webm',\n",
       " 'Black_King_WhiteBG1.webm',\n",
       " 'White_Knight_WhiteBG3.webm',\n",
       " 'Black_Rook_BlackBG.webm',\n",
       " 'Black_Rook_WhiteBG1.webm',\n",
       " 'Black_Rook_BlackBG2.webm',\n",
       " 'White_Rook_WhiteBG1.webm',\n",
       " 'Black_Knight_BlackBG1.webm',\n",
       " 'White_Pawn_BlackBG1.webm',\n",
       " 'Black_King_WhiteBG.webm',\n",
       " 'Black_Bishop_WhiteBG3.webm',\n",
       " 'Black_Bishop_BlackBG.webm',\n",
       " 'White_King_BlackBG1.webm',\n",
       " 'White_Queen_WhiteBG.webm',\n",
       " 'Black_Knight_WhiteBG3.webm',\n",
       " 'Black_Rook_WhiteBG.webm',\n",
       " 'Black_Knight_WhiteBG.webm',\n",
       " 'Black_Knight_WhiteBG1.webm',\n",
       " 'White_Rook_BlackBG1.webm',\n",
       " 'Black_Pawn_WhiteBG.webm',\n",
       " 'Black_Knight_BLackBG.webm',\n",
       " 'White_King_WhiteBG1.webm',\n",
       " 'Black_King_BlackBG.webm',\n",
       " 'Black_Pawn_GreenBG.webm',\n",
       " 'White_Knight_WhiteBG1.webm',\n",
       " 'White_Bishop_BlackBG.webm',\n",
       " 'Black_Knight_WhiteBG2.webm',\n",
       " 'Black_Pawn_WhiteBG1.webm',\n",
       " 'Black_Queen_BlackBG.webm',\n",
       " 'White_Pawn_WhiteBG1.webm',\n",
       " 'White_Rook_BlackBG2.webm',\n",
       " 'White_Pawn_WhiteBG.webm',\n",
       " 'White_Pawn_WhiteBG3.webm',\n",
       " 'White_Knight_WhiteBG.webm',\n",
       " 'Black_Bishop_WhiteB.webm',\n",
       " 'White_King_WhiteBG.webm',\n",
       " 'White_King_BlackBG.webm',\n",
       " 'White_Rook_WhiteBG.webm',\n",
       " 'Black_King_BlackBG1.webm',\n",
       " 'Black_Bishop_BlackBG1.webm',\n",
       " 'White_Bishop_WhiteBG.webm',\n",
       " 'White_Bishop_WhiteBG1.webm',\n",
       " 'Black_Queen_WhiteBG',\n",
       " 'White_Pawn_BlackBG.webm',\n",
       " 'Black_Pawn_WhiteBG3.webm',\n",
       " 'White_Pawn_WhiteBG2.webm',\n",
       " 'Black_King_BlackBG2.webm',\n",
       " 'Black_Pawn_BlackBG2.webm',\n",
       " 'Black_Queen_WhiteBG1.webm',\n",
       " 'White_Bishop_BlackBG1.webm',\n",
       " 'White_Knight_BlackBG1.webm',\n",
       " 'White_Knight_WhiteBG2.webm',\n",
       " 'Black_Pawn_WhiteBG5.webm']"
      ]
     },
     "execution_count": 26,
     "metadata": {},
     "output_type": "execute_result"
    }
   ],
   "source": [
    "names"
   ]
  },
  {
   "cell_type": "code",
   "execution_count": null,
   "metadata": {
    "collapsed": true
   },
   "outputs": [],
   "source": []
  },
  {
   "cell_type": "code",
   "execution_count": 18,
   "metadata": {
    "collapsed": false
   },
   "outputs": [
    {
     "name": "stderr",
     "output_type": "stream",
     "text": [
      "/home/fjcamillo/anaconda2/lib/python2.7/site-packages/ipykernel/__main__.py:1: DeprecationWarning: os.popen3 is deprecated.  Use the subprocess module.\n",
      "  if __name__ == '__main__':\n"
     ]
    },
    {
     "name": "stdout",
     "output_type": "stream",
     "text": [
      "hh: 0.0\n",
      "mm: 1.0\n",
      "ss: 8.95\n",
      "total:68.95\n",
      "0\n",
      "1\n",
      "2\n",
      "3\n",
      "4\n",
      "5\n",
      "6\n",
      "7\n",
      "8\n",
      "9\n",
      "10\n",
      "11\n",
      "12\n",
      "13\n",
      "14\n",
      "15\n",
      "16\n",
      "17\n",
      "18\n",
      "19\n",
      "20\n",
      "21\n",
      "22\n",
      "23\n",
      "24\n",
      "25\n",
      "26\n",
      "27\n",
      "28\n",
      "29\n",
      "30\n",
      "31\n",
      "32\n",
      "33\n",
      "34\n",
      "35\n",
      "36\n",
      "37\n",
      "38\n",
      "39\n",
      "40\n",
      "41\n",
      "42\n",
      "43\n",
      "44\n",
      "45\n",
      "46\n",
      "47\n",
      "48\n",
      "49\n",
      "50\n",
      "51\n",
      "52\n",
      "53\n",
      "54\n",
      "55\n",
      "56\n",
      "57\n",
      "58\n",
      "59\n",
      "60\n",
      "61\n",
      "62\n",
      "63\n",
      "64\n",
      "65\n",
      "66\n",
      "67\n"
     ]
    }
   ],
   "source": [
    "a, b, c = os.popen3(\"ffmpeg -i ../../input/video/Black_Bishop_BlackBG.webm\")\n",
    "out = c.read()\n",
    "dp = out.index(\"Duration: \")\n",
    "duration = out[dp+10:dp+out[dp:].index(\",\")]\n",
    "hh, mm, ss = map(float, duration.split(\":\"))\n",
    "print('hh: '+str(hh))\n",
    "print('mm: '+str(mm))\n",
    "print('ss: '+str(ss))\n",
    "total = (hh*60 + mm)*60 + ss\n",
    "print('total:'+str(total))\n",
    "for i in xrange(int(total)):\n",
    "    t = i\n",
    "    print(t)\n",
    "    os.system(\"ffmpeg -i ../../input/video/Black_Bishop_BlackBG.webm -ss % -o frame%i.png\" % (t, i))\n"
   ]
  },
  {
   "cell_type": "code",
   "execution_count": null,
   "metadata": {
    "collapsed": true
   },
   "outputs": [],
   "source": []
  }
 ],
 "metadata": {
  "kernelspec": {
   "display_name": "Python 2",
   "language": "python",
   "name": "python2"
  },
  "language_info": {
   "codemirror_mode": {
    "name": "ipython",
    "version": 2
   },
   "file_extension": ".py",
   "mimetype": "text/x-python",
   "name": "python",
   "nbconvert_exporter": "python",
   "pygments_lexer": "ipython2",
   "version": "2.7.13"
  }
 },
 "nbformat": 4,
 "nbformat_minor": 0
}
