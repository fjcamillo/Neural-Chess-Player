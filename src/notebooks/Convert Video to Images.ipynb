{
 "cells": [
  {
   "cell_type": "code",
   "execution_count": 1,
   "metadata": {
    "collapsed": true
   },
   "outputs": [],
   "source": [
    "import os\n",
    "import PIL as Image\n",
    "from time import time"
   ]
  },
  {
   "cell_type": "code",
   "execution_count": 2,
   "metadata": {
    "collapsed": true
   },
   "outputs": [],
   "source": [
    "names = os.listdir('../../input/video/')"
   ]
  },
  {
   "cell_type": "code",
   "execution_count": 3,
   "metadata": {
    "collapsed": false
   },
   "outputs": [
    {
     "data": {
      "text/plain": [
       "['White_Knight_BlackBG.webm',\n",
       " 'Black_Pawn_BlackBG3.webm',\n",
       " 'Black_Pawn_WhiteBG2.webm',\n",
       " 'Black_King_WhiteBG1.webm',\n",
       " 'White_Knight_WhiteBG3.webm',\n",
       " 'Black_Rook_BlackBG.webm',\n",
       " 'Black_Rook_WhiteBG1.webm',\n",
       " 'Black_Rook_BlackBG2.webm',\n",
       " 'White_Rook_WhiteBG1.webm',\n",
       " 'Black_Knight_BlackBG1.webm',\n",
       " 'White_Pawn_BlackBG1.webm',\n",
       " 'Black_King_WhiteBG.webm',\n",
       " 'Black_Bishop_WhiteBG3.webm',\n",
       " 'Black_Bishop_BlackBG.webm',\n",
       " 'White_King_BlackBG1.webm',\n",
       " 'White_Queen_WhiteBG.webm',\n",
       " 'Black_Knight_WhiteBG3.webm',\n",
       " 'Black_Rook_WhiteBG.webm',\n",
       " 'Black_Knight_WhiteBG.webm',\n",
       " 'Black_Knight_WhiteBG1.webm',\n",
       " 'White_Rook_BlackBG1.webm',\n",
       " 'Black_Pawn_WhiteBG.webm',\n",
       " 'Black_Knight_BLackBG.webm',\n",
       " 'White_King_WhiteBG1.webm',\n",
       " 'Black_King_BlackBG.webm',\n",
       " 'Black_Pawn_GreenBG.webm',\n",
       " 'White_Knight_WhiteBG1.webm',\n",
       " 'White_Bishop_BlackBG.webm',\n",
       " 'Black_Knight_WhiteBG2.webm',\n",
       " 'Black_Pawn_WhiteBG1.webm',\n",
       " 'Black_Queen_BlackBG.webm',\n",
       " 'White_Pawn_WhiteBG1.webm',\n",
       " 'White_Rook_BlackBG2.webm',\n",
       " 'White_Pawn_WhiteBG.webm',\n",
       " 'White_Pawn_WhiteBG3.webm',\n",
       " 'White_Knight_WhiteBG.webm',\n",
       " 'Black_Bishop_WhiteB.webm',\n",
       " 'White_King_WhiteBG.webm',\n",
       " 'White_King_BlackBG.webm',\n",
       " 'White_Rook_WhiteBG.webm',\n",
       " 'Black_King_BlackBG1.webm',\n",
       " 'Black_Bishop_BlackBG1.webm',\n",
       " 'White_Bishop_WhiteBG.webm',\n",
       " 'White_Bishop_WhiteBG1.webm',\n",
       " 'Black_Queen_WhiteBG',\n",
       " 'White_Pawn_BlackBG.webm',\n",
       " 'Black_Pawn_WhiteBG3.webm',\n",
       " 'White_Pawn_WhiteBG2.webm',\n",
       " 'Black_King_BlackBG2.webm',\n",
       " 'Black_Pawn_BlackBG2.webm',\n",
       " 'Black_Queen_WhiteBG1.webm',\n",
       " 'White_Bishop_BlackBG1.webm',\n",
       " 'White_Knight_BlackBG1.webm',\n",
       " 'White_Knight_WhiteBG2.webm',\n",
       " 'Black_Pawn_WhiteBG5.webm']"
      ]
     },
     "execution_count": 3,
     "metadata": {},
     "output_type": "execute_result"
    }
   ],
   "source": [
    "names"
   ]
  },
  {
   "cell_type": "code",
   "execution_count": 5,
   "metadata": {
    "collapsed": false
   },
   "outputs": [
    {
     "data": {
      "text/plain": [
       "1499787909.645399"
      ]
     },
     "execution_count": 5,
     "metadata": {},
     "output_type": "execute_result"
    }
   ],
   "source": [
    "time()"
   ]
  },
  {
   "cell_type": "code",
   "execution_count": 7,
   "metadata": {
    "collapsed": false
   },
   "outputs": [],
   "source": [
    "def divideVideo(filename, outputname, color):\n",
    "    print('outputname: '+outputname)\n",
    "    a, b, c = os.popen3('ffmpeg -i ../../input/video/%s' % (filename))\n",
    "    out = c.read()\n",
    "    dp = out.index('Duration: ')\n",
    "    duration = out[dp+10:dp+out[dp:].index(\",\")]\n",
    "    hh, mm, ss = map(float, duration.split(':'))\n",
    "    total = (hh*60+mm)*60+ss\n",
    "    for i in xrange(int(total)):\n",
    "        t = i\n",
    "        p = int(time())\n",
    "        print(t)\n",
    "        os.system(\"ffmpeg -i ../../input/video/%s -ss %i ../../input/images/%s/frame_%s_%i.png\" % (\n",
    "                filename, t, color, outputname, p))"
   ]
  },
  {
   "cell_type": "code",
   "execution_count": null,
   "metadata": {
    "collapsed": false
   },
   "outputs": [
    {
     "name": "stdout",
     "output_type": "stream",
     "text": [
      "White_Knight_BlackBG.webm\n",
      "outputname: White_Knight\n"
     ]
    },
    {
     "name": "stderr",
     "output_type": "stream",
     "text": [
      "/home/fjcamillo/anaconda2/lib/python2.7/site-packages/ipykernel/__main__.py:3: DeprecationWarning: os.popen3 is deprecated.  Use the subprocess module.\n",
      "  app.launch_new_instance()\n"
     ]
    },
    {
     "name": "stdout",
     "output_type": "stream",
     "text": [
      "0\n",
      "1\n",
      "2\n",
      "3\n",
      "4\n",
      "5\n",
      "6\n",
      "7\n",
      "8\n",
      "9\n",
      "10\n",
      "11\n",
      "12\n",
      "13\n",
      "14\n",
      "15\n",
      "16\n",
      "17\n",
      "18\n",
      "19\n",
      "20\n",
      "21\n",
      "22\n",
      "23\n",
      "24\n",
      "25\n",
      "26\n",
      "27\n",
      "28\n",
      "29\n",
      "30\n",
      "31\n",
      "32\n",
      "33\n",
      "34\n",
      "35\n",
      "36\n",
      "37\n",
      "38\n",
      "39\n",
      "40\n",
      "41\n",
      "42\n",
      "43\n",
      "44\n",
      "45\n",
      "46\n",
      "47\n",
      "48\n",
      "49\n",
      "50\n",
      "51\n",
      "52\n",
      "53\n",
      "54\n",
      "55\n",
      "56\n",
      "57\n",
      "58\n",
      "59\n",
      "60\n",
      "61\n",
      "62\n",
      "63\n",
      "64\n",
      "65\n",
      "66\n",
      "67\n",
      "68\n",
      "69\n",
      "70\n",
      "71\n",
      "72\n",
      "73\n",
      "74\n",
      "75\n",
      "76\n",
      "Black_Pawn_BlackBG3.webm\n",
      "outputname: Black_Pawn\n",
      "0\n",
      "1\n",
      "2\n",
      "3\n",
      "4\n",
      "5\n",
      "6\n",
      "7\n",
      "8\n",
      "9\n",
      "10\n",
      "11\n",
      "12\n",
      "13\n",
      "14\n",
      "15\n",
      "16\n",
      "17\n",
      "18\n",
      "19\n",
      "20\n",
      "21\n",
      "22\n",
      "23\n",
      "24\n",
      "25\n",
      "26\n",
      "27\n",
      "28\n",
      "29\n",
      "30\n",
      "31\n",
      "32\n",
      "33\n",
      "34\n",
      "35\n",
      "36\n",
      "37\n",
      "38\n",
      "39\n",
      "40\n",
      "41\n",
      "42\n",
      "43\n",
      "44\n",
      "45\n",
      "46\n",
      "47\n",
      "48\n",
      "49\n",
      "50\n",
      "51\n",
      "52\n",
      "53\n",
      "54\n",
      "55\n",
      "56\n",
      "57\n",
      "58\n",
      "59\n",
      "60\n",
      "61\n",
      "62\n",
      "63\n",
      "64\n",
      "65\n",
      "66\n",
      "Black_Pawn_WhiteBG2.webm\n",
      "outputname: Black_Pawn\n",
      "0\n",
      "1\n",
      "2\n",
      "3\n",
      "4\n",
      "5\n",
      "6\n",
      "7\n",
      "8\n",
      "9\n",
      "10\n",
      "11\n",
      "12\n",
      "13\n",
      "14\n",
      "15\n",
      "16\n",
      "17\n",
      "18\n",
      "19\n",
      "20\n",
      "21\n",
      "22\n",
      "23\n",
      "24\n",
      "25\n",
      "26\n",
      "27\n",
      "28\n",
      "29\n",
      "30\n",
      "31\n",
      "32\n",
      "33\n",
      "34\n",
      "35\n",
      "36\n",
      "37\n",
      "38\n",
      "39\n",
      "40\n",
      "41\n",
      "42\n",
      "43\n",
      "44\n",
      "45\n",
      "46\n",
      "47\n",
      "48\n",
      "49\n",
      "50\n",
      "51\n",
      "52\n",
      "53\n",
      "54\n",
      "55\n",
      "56\n",
      "57\n",
      "58\n",
      "59\n",
      "Black_King_WhiteBG1.webm\n",
      "outputname: Black_King\n",
      "0\n",
      "1\n",
      "2\n",
      "3\n",
      "4\n",
      "5\n",
      "6\n",
      "7\n",
      "8\n",
      "9\n",
      "10\n",
      "11\n",
      "12\n",
      "13\n",
      "14\n",
      "15\n",
      "16\n",
      "17\n",
      "18\n",
      "19\n",
      "20\n",
      "21\n",
      "22\n",
      "23\n",
      "24\n",
      "25\n",
      "26\n",
      "27\n",
      "28\n",
      "29\n",
      "30\n",
      "31\n",
      "32\n",
      "33\n",
      "34\n",
      "35\n",
      "36\n",
      "37\n",
      "38\n",
      "39\n",
      "40\n",
      "41\n",
      "42\n",
      "43\n",
      "44\n",
      "45\n",
      "46\n",
      "47\n",
      "48\n",
      "49\n",
      "50\n",
      "51\n",
      "52\n",
      "53\n",
      "54\n",
      "55\n",
      "56\n",
      "57\n",
      "58\n",
      "59\n",
      "60\n"
     ]
    }
   ],
   "source": [
    "for idx, val in enumerate(names):\n",
    "    print(val)\n",
    "#     print(val.split(\"_\"))\n",
    "    color, piece, _ = val.split(\"_\")\n",
    "    divideVideo(val, \"_\".join(val.split(\"_\")[:2]), color)"
   ]
  },
  {
   "cell_type": "code",
   "execution_count": null,
   "metadata": {
    "collapsed": true
   },
   "outputs": [],
   "source": []
  },
  {
   "cell_type": "markdown",
   "metadata": {
    "collapsed": true
   },
   "source": [
    "### Convert Images into ndarrays and number values"
   ]
  },
  {
   "cell_type": "code",
   "execution_count": 1,
   "metadata": {
    "collapsed": true
   },
   "outputs": [],
   "source": [
    "import os\n",
    "from PIL import Image"
   ]
  },
  {
   "cell_type": "code",
   "execution_count": 11,
   "metadata": {
    "collapsed": false
   },
   "outputs": [],
   "source": [
    "white_images = os.listdir('../../input/images/White')\n",
    "black_images = os.listdir('../../input/images/Black')"
   ]
  },
  {
   "cell_type": "code",
   "execution_count": 12,
   "metadata": {
    "collapsed": false
   },
   "outputs": [
    {
     "name": "stdout",
     "output_type": "stream",
     "text": [
      "Images for White Pieces: 357\n",
      "Images for Black Pieces: 505\n"
     ]
    }
   ],
   "source": [
    "#Number of images per folder on the color of the pieces\n",
    "print('Images for White Pieces: {}'.format(len(white_images)))\n",
    "print('Images for Black Pieces: {}'.format(len(black_images)))"
   ]
  },
  {
   "cell_type": "code",
   "execution_count": 6,
   "metadata": {
    "collapsed": true
   },
   "outputs": [],
   "source": [
    "#Classes of the images\n",
    "classes = {\n",
    "    'black': {\n",
    "        'pawn': 7,\n",
    "        'bishop': 8,\n",
    "        'knight': 9,\n",
    "        'rook': 10,\n",
    "        'queen': 11,\n",
    "        'king': 12\n",
    "    },\n",
    "    'white': {\n",
    "        'pawn': 1,\n",
    "        'bishop': 2,\n",
    "        'knight': 3,\n",
    "        'rook': 4,\n",
    "        'queen': 5,\n",
    "        'king': 6\n",
    "    }\n",
    "}"
   ]
  },
  {
   "cell_type": "code",
   "execution_count": 7,
   "metadata": {
    "collapsed": true
   },
   "outputs": [],
   "source": [
    "#Function to label images:\n",
    "def label_image(filename):\n",
    "    name = filename.split(\"_\")\n",
    "    label = classes[name[1].lower()][name[2].lower()]\n",
    "    return label, name[1].lower(), name[2].lower()"
   ]
  },
  {
   "cell_type": "code",
   "execution_count": null,
   "metadata": {
    "collapsed": true
   },
   "outputs": [],
   "source": []
  },
  {
   "cell_type": "code",
   "execution_count": null,
   "metadata": {
    "collapsed": true
   },
   "outputs": [],
   "source": []
  },
  {
   "cell_type": "markdown",
   "metadata": {
    "collapsed": true
   },
   "source": [
    "### Dataset"
   ]
  },
  {
   "cell_type": "code",
   "execution_count": 17,
   "metadata": {
    "collapsed": false
   },
   "outputs": [],
   "source": [
    "#Dataset Schema\n",
    "chess12 = {\n",
    "    'train_images': [],\n",
    "    'test_images': [],\n",
    "    'train_labels': [],\n",
    "    'test_labels:': [],\n",
    "    'one_hot_train_labels': [],\n",
    "    'one_hot_test_labels': []\n",
    "}"
   ]
  },
  {
   "cell_type": "code",
   "execution_count": null,
   "metadata": {
    "collapsed": true
   },
   "outputs": [],
   "source": []
  }
 ],
 "metadata": {
  "kernelspec": {
   "display_name": "Python 2",
   "language": "python",
   "name": "python2"
  },
  "language_info": {
   "codemirror_mode": {
    "name": "ipython",
    "version": 2
   },
   "file_extension": ".py",
   "mimetype": "text/x-python",
   "name": "python",
   "nbconvert_exporter": "python",
   "pygments_lexer": "ipython2",
   "version": "2.7.13"
  }
 },
 "nbformat": 4,
 "nbformat_minor": 0
}
