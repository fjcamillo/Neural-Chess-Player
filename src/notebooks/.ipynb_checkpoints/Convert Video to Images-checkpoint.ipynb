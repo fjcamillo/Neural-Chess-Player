{
 "cells": [
  {
   "cell_type": "code",
   "execution_count": 1,
   "metadata": {
    "collapsed": true
   },
   "outputs": [],
   "source": [
    "import os\n",
    "import PIL as Image"
   ]
  },
  {
   "cell_type": "code",
   "execution_count": 5,
   "metadata": {
    "collapsed": false
   },
   "outputs": [
    {
     "name": "stderr",
     "output_type": "stream",
     "text": [
      "/home/fjcamillo/anaconda2/lib/python2.7/site-packages/ipykernel/__main__.py:1: DeprecationWarning: os.popen3 is deprecated.  Use the subprocess module.\n",
      "  if __name__ == '__main__':\n"
     ]
    },
    {
     "name": "stdout",
     "output_type": "stream",
     "text": [
      "hh: 0.0\n",
      "mm: 1.0\n",
      "ss: 8.95\n"
     ]
    }
   ],
   "source": [
    "a, b, c = os.popen3(\"ffmpeg -i ../../input/video/Black_Bishop_BlackBG.webm\")\n",
    "out = c.read()\n",
    "dp = out.index(\"Duration: \")\n",
    "duration = out[dp+10:dp+out[dp:].index(\",\")]\n",
    "hh, mm, ss = map(float, duration.split(\":\"))\n",
    "print('hh: '+str(hh))\n",
    "print('mm: '+str(mm))\n",
    "print('ss: '+str(ss))\n",
    "total = (hh*60 + mm)*60 + ss\n",
    "for i in xrange(9):\n",
    "    t = (i + 1) * total / 10\n",
    "    print(t)\n",
    "    os.system(\"ffmpeg -i ../../input/video/Black_Bishop_BlackBG.webm -ss %ss frame%i.png\" % (t, i))\n"
   ]
  },
  {
   "cell_type": "code",
   "execution_count": null,
   "metadata": {
    "collapsed": true
   },
   "outputs": [],
   "source": []
  }
 ],
 "metadata": {
  "kernelspec": {
   "display_name": "Python 2",
   "language": "python",
   "name": "python2"
  },
  "language_info": {
   "codemirror_mode": {
    "name": "ipython",
    "version": 2
   },
   "file_extension": ".py",
   "mimetype": "text/x-python",
   "name": "python",
   "nbconvert_exporter": "python",
   "pygments_lexer": "ipython2",
   "version": "2.7.13"
  }
 },
 "nbformat": 4,
 "nbformat_minor": 0
}
