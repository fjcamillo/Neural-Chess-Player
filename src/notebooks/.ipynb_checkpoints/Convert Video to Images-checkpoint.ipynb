{
 "cells": [
  {
   "cell_type": "code",
   "execution_count": 1,
   "metadata": {
    "collapsed": true
   },
   "outputs": [],
   "source": [
    "import os\n",
    "import PIL as Image"
   ]
  },
  {
   "cell_type": "code",
   "execution_count": 2,
   "metadata": {
    "collapsed": true
   },
   "outputs": [],
   "source": [
    "names = os.listdir('../../input/video/')"
   ]
  },
  {
   "cell_type": "code",
   "execution_count": 3,
   "metadata": {
    "collapsed": false
   },
   "outputs": [
    {
     "data": {
      "text/plain": [
       "['White_Knight_BlackBG.webm',\n",
       " 'Black_Pawn_BlackBG3.webm',\n",
       " 'Black_Pawn_WhiteBG2.webm',\n",
       " 'Black_King_WhiteBG1.webm',\n",
       " 'White_Knight_WhiteBG3.webm',\n",
       " 'Black_Rook_BlackBG.webm',\n",
       " 'Black_Rook_WhiteBG1.webm',\n",
       " 'Black_Rook_BlackBG2.webm',\n",
       " 'White_Rook_WhiteBG1.webm',\n",
       " 'Black_Knight_BlackBG1.webm',\n",
       " 'White_Pawn_BlackBG1.webm',\n",
       " 'Black_King_WhiteBG.webm',\n",
       " 'Black_Bishop_WhiteBG3.webm',\n",
       " 'Black_Bishop_BlackBG.webm',\n",
       " 'White_King_BlackBG1.webm',\n",
       " 'White_Queen_WhiteBG.webm',\n",
       " 'Black_Knight_WhiteBG3.webm',\n",
       " 'Black_Rook_WhiteBG.webm',\n",
       " 'Black_Knight_WhiteBG.webm',\n",
       " 'Black_Knight_WhiteBG1.webm',\n",
       " 'White_Rook_BlackBG1.webm',\n",
       " 'Black_Pawn_WhiteBG.webm',\n",
       " 'Black_Knight_BLackBG.webm',\n",
       " 'White_King_WhiteBG1.webm',\n",
       " 'Black_King_BlackBG.webm',\n",
       " 'Black_Pawn_GreenBG.webm',\n",
       " 'White_Knight_WhiteBG1.webm',\n",
       " 'White_Bishop_BlackBG.webm',\n",
       " 'Black_Knight_WhiteBG2.webm',\n",
       " 'Black_Pawn_WhiteBG1.webm',\n",
       " 'Black_Queen_BlackBG.webm',\n",
       " 'White_Pawn_WhiteBG1.webm',\n",
       " 'White_Rook_BlackBG2.webm',\n",
       " 'White_Pawn_WhiteBG.webm',\n",
       " 'White_Pawn_WhiteBG3.webm',\n",
       " 'White_Knight_WhiteBG.webm',\n",
       " 'Black_Bishop_WhiteB.webm',\n",
       " 'White_King_WhiteBG.webm',\n",
       " 'White_King_BlackBG.webm',\n",
       " 'White_Rook_WhiteBG.webm',\n",
       " 'Black_King_BlackBG1.webm',\n",
       " 'Black_Bishop_BlackBG1.webm',\n",
       " 'White_Bishop_WhiteBG.webm',\n",
       " 'White_Bishop_WhiteBG1.webm',\n",
       " 'Black_Queen_WhiteBG',\n",
       " 'White_Pawn_BlackBG.webm',\n",
       " 'Black_Pawn_WhiteBG3.webm',\n",
       " 'White_Pawn_WhiteBG2.webm',\n",
       " 'Black_King_BlackBG2.webm',\n",
       " 'Black_Pawn_BlackBG2.webm',\n",
       " 'Black_Queen_WhiteBG1.webm',\n",
       " 'White_Bishop_BlackBG1.webm',\n",
       " 'White_Knight_BlackBG1.webm',\n",
       " 'White_Knight_WhiteBG2.webm',\n",
       " 'Black_Pawn_WhiteBG5.webm']"
      ]
     },
     "execution_count": 3,
     "metadata": {},
     "output_type": "execute_result"
    }
   ],
   "source": [
    "names"
   ]
  },
  {
   "cell_type": "code",
   "execution_count": 4,
   "metadata": {
    "collapsed": false
   },
   "outputs": [],
   "source": [
    "def divideVideo(filename, outputname, color):\n",
    "    print('outputname: '+outputname)\n",
    "    a, b, c = os.popen3('ffmpeg -i ../../input/video/{}'.format(filename))\n",
    "    out = c.read()\n",
    "    dp = out.index('Duration: ')\n",
    "    duration = out[dp+10:dp+out[dp:].index(\",\")]\n",
    "    hh, mm, ss = map(float, duration.split(':'))\n",
    "    total = (hh*60+mm)*60+ss\n",
    "    for i in xrange(int(total)):\n",
    "        t = i\n",
    "        print(t)\n",
    "        os.system(\"ffmpeg -i ../../input/video/{0} -ss {1} -o frame_{2}.png\".format(filename, t, outputname))"
   ]
  },
  {
   "cell_type": "code",
   "execution_count": null,
   "metadata": {
    "collapsed": false
   },
   "outputs": [],
   "source": [
    "for idx, val in enumerate(names):\n",
    "    print(val.split(\"_\"))\n",
    "    color, piece, _ = val.split(\"_\")\n",
    "    divideVideo(val, \"_\".join([color,piece]), color)"
   ]
  },
  {
   "cell_type": "code",
   "execution_count": null,
   "metadata": {
    "collapsed": true
   },
   "outputs": [],
   "source": []
  },
  {
   "cell_type": "code",
   "execution_count": null,
   "metadata": {
    "collapsed": true
   },
   "outputs": [],
   "source": []
  },
  {
   "cell_type": "code",
   "execution_count": null,
   "metadata": {
    "collapsed": false
   },
   "outputs": [],
   "source": [
    "a, b, c = os.popen3(\"ffmpeg -i ../../input/video/Black_Bishop_BlackBG.webm\")\n",
    "out = c.read()\n",
    "dp = out.index(\"Duration: \")\n",
    "duration = out[dp+10:dp+out[dp:].index(\",\")]\n",
    "hh, mm, ss = map(float, duration.split(\":\"))\n",
    "print('hh: '+str(hh))\n",
    "print('mm: '+str(mm))\n",
    "print('ss: '+str(ss))\n",
    "total = (hh*60 + mm)*60 + ss\n",
    "print('total:'+str(total))\n",
    "for i in xrange(int(total)):\n",
    "    t = i\n",
    "    print(t)\n",
    "    os.system(\"ffmpeg -i ../../input/video/Black_Bishop_BlackBG.webm -ss % -o frame%i.png\" % (t, i))\n",
    "# t = 0.3\n",
    "# i = t\n",
    "# os.system(\"ffmpeg -i ../../input/video/Black_Bishop_BlackBG.webm -ss 0 -o frame.png\")\n"
   ]
  },
  {
   "cell_type": "code",
   "execution_count": null,
   "metadata": {
    "collapsed": true
   },
   "outputs": [],
   "source": []
  }
 ],
 "metadata": {
  "kernelspec": {
   "display_name": "Python 2",
   "language": "python",
   "name": "python2"
  },
  "language_info": {
   "codemirror_mode": {
    "name": "ipython",
    "version": 2
   },
   "file_extension": ".py",
   "mimetype": "text/x-python",
   "name": "python",
   "nbconvert_exporter": "python",
   "pygments_lexer": "ipython2",
   "version": "2.7.13"
  }
 },
 "nbformat": 4,
 "nbformat_minor": 0
}
